{
  "nbformat": 4,
  "nbformat_minor": 0,
  "metadata": {
    "colab": {
      "provenance": []
    },
    "kernelspec": {
      "name": "python3",
      "display_name": "Python 3"
    },
    "language_info": {
      "name": "python"
    }
  },
  "cells": [
    {
      "cell_type": "markdown",
      "source": [
        "# 🎬 Recommender System Demo using Matrix Factorization (SVD)\n",
        "\n",
        "This notebook demonstrates a simple **movie recommender system** built with the **Surprise** library. It uses matrix factorization (SVD) to predict user–movie ratings and recommend top movies."
      ],
      "metadata": {
        "id": "bC8QldrjwUx2"
      }
    },
    {
      "cell_type": "code",
      "source": [
        "# =======================================\n",
        "# STEP 2: Import libs & read csv file\n",
        "# =======================================\n",
        "\n",
        "import pandas as pd\n",
        "from surprise import SVD, Dataset, Reader, accuracy\n",
        "from surprise.model_selection import train_test_split\n",
        "import numpy as np\n",
        "from collections import defaultdict\n",
        "\n",
        "# Load datasets (change paths as needed)\n",
        "ratings = pd.read_csv(\"./ratings.csv\")\n",
        "movies = pd.read_csv(\"./movies.csv\")\n",
        "\n",
        "# Merge on 'movieId'\n",
        "df = pd.merge(ratings, movies[['movieId', 'title']], on='movieId', how='left')\n",
        "\n",
        "# Load dataset\n",
        "df.head()"
      ],
      "metadata": {
        "id": "CVS66ediv2oW"
      },
      "execution_count": null,
      "outputs": []
    },
    {
      "cell_type": "code",
      "source": [
        "# =======================================\n",
        "# STEP 3: Prepare data for Surprise\n",
        "# =======================================\n",
        "\n",
        "# Prepare data for Surprise\n",
        "reader = Reader(rating_scale=(1, 5))\n",
        "data = Dataset.load_from_df(df[['userId', 'movieId', 'rating']], reader)\n",
        "\n",
        "# Split data into training and testing sets\n",
        "trainset, testset = train_test_split(data, test_size=0.2, random_state=42)"
      ],
      "metadata": {
        "id": "W1IMZ9MNv9Za"
      },
      "execution_count": null,
      "outputs": []
    },
    {
      "cell_type": "code",
      "source": [
        "# =============================================\n",
        "# STEP 4: Train matrix factorization model (SVD)\n",
        "# ==============================================\n",
        "\n",
        "model = SVD()\n",
        "model.fit(trainset)\n"
      ],
      "metadata": {
        "id": "cB73Y5aBv_nH"
      },
      "execution_count": null,
      "outputs": []
    },
    {
      "cell_type": "code",
      "source": [
        "# ===================================\n",
        "# STEP 5: Evaluate on test set\n",
        "# ===================================\n",
        "\n",
        "predictions = model.test(testset)\n",
        "rmse = accuracy.rmse(predictions)\n",
        "\n",
        "\n",
        "\n",
        "# Convert test predictions into dictionary format for evaluation\n",
        "user_actual = defaultdict(list)\n",
        "user_pred = defaultdict(list)\n",
        "\n",
        "# Build lists of actual and predicted ratings per user\n",
        "for uid, iid, true_r, est, _ in predictions:\n",
        "    user_actual[uid].append((iid, true_r))\n",
        "    user_pred[uid].append((iid, est))\n",
        "\n",
        "# Parameters\n",
        "K = 5  # top-K cutoff\n",
        "threshold = 4.0  # rating threshold to consider \"liked\"\n",
        "\n",
        "# Initialize metrics\n",
        "precision_list, recall_list = [], []\n",
        "\n",
        "\n",
        "# Compute metrics per user\n",
        "for uid in user_actual.keys():\n",
        "    actual_items = [iid for iid, rating in user_actual[uid] if rating >= threshold]\n",
        "    pred_sorted = sorted(user_pred[uid], key=lambda x: x[1], reverse=True)\n",
        "    pred_items = [iid for iid, _ in pred_sorted]\n",
        "\n",
        "    # Top-K predictions\n",
        "    top_k_pred = pred_items[:K]\n",
        "    true_positives = len(set(top_k_pred) & set(actual_items))\n",
        "    precision = true_positives / K if K else 0\n",
        "    recall = true_positives / len(actual_items) if actual_items else 0\n",
        "\n",
        "\n",
        "    # Append metrics\n",
        "    precision_list.append(precision)\n",
        "    recall_list.append(recall)\n",
        "\n",
        "\n",
        "# Compute averages\n",
        "results = {\n",
        "    \"Precision@5\": np.mean(precision_list),\n",
        "    \"Recall@5\": np.mean(recall_list)\n",
        "}\n",
        "\n",
        "for metric, value in results.items():\n",
        "    print(f\"{metric}: {value:.4f}\")"
      ],
      "metadata": {
        "id": "ZjsmFUzZwE3S"
      },
      "execution_count": null,
      "outputs": []
    },
    {
      "cell_type": "code",
      "source": [
        "# =====================================================\n",
        "# STEP 6: Generate top-N recommendations for a few users\n",
        "# ======================================================\n",
        "\n",
        "from collections import defaultdict\n",
        "\n",
        "def get_top_n(predictions, n=5):\n",
        "    top_n = defaultdict(list)\n",
        "    for uid, iid, true_r, est, _ in predictions:\n",
        "        top_n[uid].append((iid, est))\n",
        "    for uid, user_ratings in top_n.items():\n",
        "        user_ratings.sort(key=lambda x: x[1], reverse=True)\n",
        "        top_n[uid] = user_ratings[:n]\n",
        "    return top_n\n",
        "\n",
        "top_n = get_top_n(predictions, n=5)\n",
        "\n",
        "\n",
        "# Display sample recommendations\n",
        "for uid, user_ratings in list(top_n.items())[:3]:\n",
        "    print(f'\\nTop recommendations for user {uid}:')\n",
        "    for (iid, rating) in user_ratings:\n",
        "        title = df.loc[df['movieId'] == iid, 'title'].values\n",
        "        title = title[0] if len(title) > 0 else 'Unknown'\n",
        "        print(f'  {title} (predicted rating: {rating:.2f})')"
      ],
      "metadata": {
        "id": "E_JCh5kjwImU"
      },
      "execution_count": null,
      "outputs": []
    },
    {
      "cell_type": "code",
      "source": [
        "# ==============================================================\n",
        "# STEP 7: Predict ratings for unseen movies for a specific user\n",
        "\n",
        "# What This Code Does\n",
        "    # Finds which movies a user hasn’t rated.\n",
        "    # Uses the SVD model’s predict() method to estimate ratings for each unseen movie.\n",
        "    # Sorts them by predicted rating.\n",
        "    # Prints the top 5 highest predicted movies.\n",
        "# ==============================================================\n",
        "\n",
        "def recommend_for_user(user_id, df, model, n=5):\n",
        "    \"\"\"\n",
        "    Recommend top-N movies for a given user based on predicted ratings.\n",
        "    \"\"\"\n",
        "    # All movies\n",
        "    all_movie_ids = df['movieId'].unique()\n",
        "\n",
        "    # Movies already rated by the user\n",
        "    rated_movie_ids = df[df['userId'] == user_id]['movieId'].unique()\n",
        "\n",
        "    # Movies not yet rated\n",
        "    unseen_movie_ids = [mid for mid in all_movie_ids if mid not in rated_movie_ids]\n",
        "\n",
        "    # Predict ratings for unseen movies\n",
        "    predictions = []\n",
        "    for mid in unseen_movie_ids:\n",
        "        pred = model.predict(user_id, mid)\n",
        "        predictions.append((mid, pred.est))\n",
        "\n",
        "    # Sort by estimated rating, descending\n",
        "    predictions.sort(key=lambda x: x[1], reverse=True)\n",
        "\n",
        "    # Get top-N\n",
        "    top_n = predictions[:n]\n",
        "\n",
        "    # Display results\n",
        "    print(f\"\\n🎬 Top {n} recommended movies for user {user_id}:\")\n",
        "    for mid, rating in top_n:\n",
        "        title = df.loc[df['movieId'] == mid, 'title'].values\n",
        "        title = title[0] if len(title) > 0 else \"Unknown\"\n",
        "        print(f\"  {title} (predicted rating: {rating:.2f})\")\n",
        "\n",
        "\n",
        "\n",
        "\n",
        "# Example: Get recommendations for user ID 196\n",
        "recommend_for_user(user_id=196, df=df, model=model, n=5)\n"
      ],
      "metadata": {
        "id": "T9JteNDqwMTx"
      },
      "execution_count": null,
      "outputs": []
    }
  ]
}