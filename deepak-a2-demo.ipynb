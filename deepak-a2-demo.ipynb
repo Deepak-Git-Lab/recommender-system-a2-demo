{
 "cells": [
  {
   "cell_type": "markdown",
   "id": "d8ebe65b",
   "metadata": {
    "_cell_guid": "b1076dfc-b9ad-4769-8c92-a6c4dae69d19",
    "_uuid": "8f2839f25d086af736a60e9eeb907d3b93b6e0e5",
    "papermill": {
     "duration": 0.002777,
     "end_time": "2025-10-27T14:29:27.595868",
     "exception": false,
     "start_time": "2025-10-27T14:29:27.593091",
     "status": "completed"
    },
    "tags": []
   },
   "source": [
    "# 🎬 Recommender System Demo using Matrix Factorization (SVD)\n",
    "\n",
    "This notebook demonstrates a simple **movie recommender system** built with the **Surprise** library. It uses matrix factorization (SVD) to predict user–movie ratings and recommend top movies."
   ]
  },
  {
   "cell_type": "code",
   "execution_count": 1,
   "id": "a5fd700e",
   "metadata": {
    "execution": {
     "iopub.execute_input": "2025-10-27T14:29:27.602072Z",
     "iopub.status.busy": "2025-10-27T14:29:27.601780Z",
     "iopub.status.idle": "2025-10-27T14:29:32.635002Z",
     "shell.execute_reply": "2025-10-27T14:29:32.633795Z"
    },
    "papermill": {
     "duration": 5.038147,
     "end_time": "2025-10-27T14:29:32.636764",
     "exception": false,
     "start_time": "2025-10-27T14:29:27.598617",
     "status": "completed"
    },
    "tags": []
   },
   "outputs": [
    {
     "name": "stdout",
     "output_type": "stream",
     "text": [
      "Requirement already satisfied: scikit-surprise in /usr/local/lib/python3.11/dist-packages (1.1.4)\r\n",
      "Requirement already satisfied: joblib>=1.2.0 in /usr/local/lib/python3.11/dist-packages (from scikit-surprise) (1.5.2)\r\n",
      "Requirement already satisfied: numpy>=1.19.5 in /usr/local/lib/python3.11/dist-packages (from scikit-surprise) (1.26.4)\r\n",
      "Requirement already satisfied: scipy>=1.6.0 in /usr/local/lib/python3.11/dist-packages (from scikit-surprise) (1.15.3)\r\n",
      "Requirement already satisfied: mkl_fft in /usr/local/lib/python3.11/dist-packages (from numpy>=1.19.5->scikit-surprise) (1.3.8)\r\n",
      "Requirement already satisfied: mkl_random in /usr/local/lib/python3.11/dist-packages (from numpy>=1.19.5->scikit-surprise) (1.2.4)\r\n",
      "Requirement already satisfied: mkl_umath in /usr/local/lib/python3.11/dist-packages (from numpy>=1.19.5->scikit-surprise) (0.1.1)\r\n",
      "Requirement already satisfied: mkl in /usr/local/lib/python3.11/dist-packages (from numpy>=1.19.5->scikit-surprise) (2025.2.0)\r\n",
      "Requirement already satisfied: tbb4py in /usr/local/lib/python3.11/dist-packages (from numpy>=1.19.5->scikit-surprise) (2022.2.0)\r\n",
      "Requirement already satisfied: mkl-service in /usr/local/lib/python3.11/dist-packages (from numpy>=1.19.5->scikit-surprise) (2.4.1)\r\n",
      "Requirement already satisfied: intel-openmp<2026,>=2024 in /usr/local/lib/python3.11/dist-packages (from mkl->numpy>=1.19.5->scikit-surprise) (2024.2.0)\r\n",
      "Requirement already satisfied: tbb==2022.* in /usr/local/lib/python3.11/dist-packages (from mkl->numpy>=1.19.5->scikit-surprise) (2022.2.0)\r\n",
      "Requirement already satisfied: tcmlib==1.* in /usr/local/lib/python3.11/dist-packages (from tbb==2022.*->mkl->numpy>=1.19.5->scikit-surprise) (1.4.0)\r\n",
      "Requirement already satisfied: intel-cmplr-lib-rt in /usr/local/lib/python3.11/dist-packages (from mkl_umath->numpy>=1.19.5->scikit-surprise) (2024.2.0)\r\n",
      "Requirement already satisfied: intel-cmplr-lib-ur==2024.2.0 in /usr/local/lib/python3.11/dist-packages (from intel-openmp<2026,>=2024->mkl->numpy>=1.19.5->scikit-surprise) (2024.2.0)\r\n"
     ]
    }
   ],
   "source": [
    "# =======================================\n",
    "# STEP 1: Install scikit-surprise\n",
    "# =======================================\n",
    "!pip install scikit-surprise"
   ]
  },
  {
   "cell_type": "code",
   "execution_count": 2,
   "id": "5650e386",
   "metadata": {
    "execution": {
     "iopub.execute_input": "2025-10-27T14:29:32.643620Z",
     "iopub.status.busy": "2025-10-27T14:29:32.643293Z",
     "iopub.status.idle": "2025-10-27T14:29:34.774986Z",
     "shell.execute_reply": "2025-10-27T14:29:34.774118Z"
    },
    "papermill": {
     "duration": 2.13684,
     "end_time": "2025-10-27T14:29:34.776440",
     "exception": false,
     "start_time": "2025-10-27T14:29:32.639600",
     "status": "completed"
    },
    "tags": []
   },
   "outputs": [
    {
     "data": {
      "text/html": [
       "<div>\n",
       "<style scoped>\n",
       "    .dataframe tbody tr th:only-of-type {\n",
       "        vertical-align: middle;\n",
       "    }\n",
       "\n",
       "    .dataframe tbody tr th {\n",
       "        vertical-align: top;\n",
       "    }\n",
       "\n",
       "    .dataframe thead th {\n",
       "        text-align: right;\n",
       "    }\n",
       "</style>\n",
       "<table border=\"1\" class=\"dataframe\">\n",
       "  <thead>\n",
       "    <tr style=\"text-align: right;\">\n",
       "      <th></th>\n",
       "      <th>userId</th>\n",
       "      <th>movieId</th>\n",
       "      <th>rating</th>\n",
       "      <th>timestamp</th>\n",
       "      <th>title</th>\n",
       "    </tr>\n",
       "  </thead>\n",
       "  <tbody>\n",
       "    <tr>\n",
       "      <th>0</th>\n",
       "      <td>1</td>\n",
       "      <td>1</td>\n",
       "      <td>4.0</td>\n",
       "      <td>964982703</td>\n",
       "      <td>Toy Story (1995)</td>\n",
       "    </tr>\n",
       "    <tr>\n",
       "      <th>1</th>\n",
       "      <td>1</td>\n",
       "      <td>3</td>\n",
       "      <td>4.0</td>\n",
       "      <td>964981247</td>\n",
       "      <td>Grumpier Old Men (1995)</td>\n",
       "    </tr>\n",
       "    <tr>\n",
       "      <th>2</th>\n",
       "      <td>1</td>\n",
       "      <td>6</td>\n",
       "      <td>4.0</td>\n",
       "      <td>964982224</td>\n",
       "      <td>Heat (1995)</td>\n",
       "    </tr>\n",
       "    <tr>\n",
       "      <th>3</th>\n",
       "      <td>1</td>\n",
       "      <td>47</td>\n",
       "      <td>5.0</td>\n",
       "      <td>964983815</td>\n",
       "      <td>Seven (a.k.a. Se7en) (1995)</td>\n",
       "    </tr>\n",
       "    <tr>\n",
       "      <th>4</th>\n",
       "      <td>1</td>\n",
       "      <td>50</td>\n",
       "      <td>5.0</td>\n",
       "      <td>964982931</td>\n",
       "      <td>Usual Suspects, The (1995)</td>\n",
       "    </tr>\n",
       "  </tbody>\n",
       "</table>\n",
       "</div>"
      ],
      "text/plain": [
       "   userId  movieId  rating  timestamp                        title\n",
       "0       1        1     4.0  964982703             Toy Story (1995)\n",
       "1       1        3     4.0  964981247      Grumpier Old Men (1995)\n",
       "2       1        6     4.0  964982224                  Heat (1995)\n",
       "3       1       47     5.0  964983815  Seven (a.k.a. Se7en) (1995)\n",
       "4       1       50     5.0  964982931   Usual Suspects, The (1995)"
      ]
     },
     "execution_count": 2,
     "metadata": {},
     "output_type": "execute_result"
    }
   ],
   "source": [
    "# =======================================\n",
    "# STEP 2: Import libs & read csv file\n",
    "# =======================================\n",
    "\n",
    "import pandas as pd\n",
    "from surprise import SVD, Dataset, Reader, accuracy\n",
    "from surprise.model_selection import train_test_split\n",
    "import numpy as np\n",
    "from collections import defaultdict\n",
    "\n",
    "# Load datasets (change paths as needed)\n",
    "ratings = pd.read_csv(\"/kaggle/input/ratings-movies/ratings.csv\")\n",
    "movies = pd.read_csv(\"/kaggle/input/ratings-movies/movies.csv\")\n",
    "\n",
    "# Merge on 'movieId'\n",
    "df = pd.merge(ratings, movies[['movieId', 'title']], on='movieId', how='left')\n",
    "\n",
    "# Load dataset\n",
    "df.head()"
   ]
  },
  {
   "cell_type": "code",
   "execution_count": 3,
   "id": "a1e3ea9c",
   "metadata": {
    "execution": {
     "iopub.execute_input": "2025-10-27T14:29:34.783260Z",
     "iopub.status.busy": "2025-10-27T14:29:34.782973Z",
     "iopub.status.idle": "2025-10-27T14:29:34.999575Z",
     "shell.execute_reply": "2025-10-27T14:29:34.998664Z"
    },
    "papermill": {
     "duration": 0.222024,
     "end_time": "2025-10-27T14:29:35.001352",
     "exception": false,
     "start_time": "2025-10-27T14:29:34.779328",
     "status": "completed"
    },
    "tags": []
   },
   "outputs": [],
   "source": [
    "# =======================================\n",
    "# STEP 3: Prepare data for Surprise\n",
    "# =======================================\n",
    "\n",
    "# Prepare data for Surprise\n",
    "reader = Reader(rating_scale=(1, 5))\n",
    "data = Dataset.load_from_df(df[['userId', 'movieId', 'rating']], reader)\n",
    "\n",
    "# Split data into training and testing sets\n",
    "trainset, testset = train_test_split(data, test_size=0.2, random_state=42)"
   ]
  },
  {
   "cell_type": "code",
   "execution_count": 4,
   "id": "5d0aaa39",
   "metadata": {
    "execution": {
     "iopub.execute_input": "2025-10-27T14:29:35.008639Z",
     "iopub.status.busy": "2025-10-27T14:29:35.007874Z",
     "iopub.status.idle": "2025-10-27T14:29:36.288766Z",
     "shell.execute_reply": "2025-10-27T14:29:36.287897Z"
    },
    "papermill": {
     "duration": 1.285963,
     "end_time": "2025-10-27T14:29:36.290285",
     "exception": false,
     "start_time": "2025-10-27T14:29:35.004322",
     "status": "completed"
    },
    "tags": []
   },
   "outputs": [
    {
     "data": {
      "text/plain": [
       "<surprise.prediction_algorithms.matrix_factorization.SVD at 0x7dd662291f10>"
      ]
     },
     "execution_count": 4,
     "metadata": {},
     "output_type": "execute_result"
    }
   ],
   "source": [
    "# =============================================\n",
    "# STEP 3: Train matrix factorization model (SVD)\n",
    "# ==============================================\n",
    "\n",
    "model = SVD()\n",
    "model.fit(trainset)\n"
   ]
  },
  {
   "cell_type": "code",
   "execution_count": 5,
   "id": "ee699db8",
   "metadata": {
    "execution": {
     "iopub.execute_input": "2025-10-27T14:29:36.296673Z",
     "iopub.status.busy": "2025-10-27T14:29:36.296427Z",
     "iopub.status.idle": "2025-10-27T14:29:36.451145Z",
     "shell.execute_reply": "2025-10-27T14:29:36.450173Z"
    },
    "papermill": {
     "duration": 0.159503,
     "end_time": "2025-10-27T14:29:36.452538",
     "exception": false,
     "start_time": "2025-10-27T14:29:36.293035",
     "status": "completed"
    },
    "tags": []
   },
   "outputs": [
    {
     "name": "stdout",
     "output_type": "stream",
     "text": [
      "RMSE: 0.8817\n",
      "Precision@5: 0.6639\n",
      "Recall@5: 0.4723\n"
     ]
    }
   ],
   "source": [
    "# ===================================\n",
    "# STEP 4: Evaluate on test set\n",
    "# ===================================\n",
    "\n",
    "predictions = model.test(testset)\n",
    "rmse = accuracy.rmse(predictions)\n",
    "\n",
    "\n",
    "\n",
    "# Convert test predictions into dictionary format for evaluation\n",
    "user_actual = defaultdict(list)\n",
    "user_pred = defaultdict(list)\n",
    "\n",
    "# Build lists of actual and predicted ratings per user\n",
    "for uid, iid, true_r, est, _ in predictions:\n",
    "    user_actual[uid].append((iid, true_r))\n",
    "    user_pred[uid].append((iid, est))\n",
    "\n",
    "# Parameters\n",
    "K = 5  # top-K cutoff\n",
    "threshold = 4.0  # rating threshold to consider \"liked\"\n",
    "\n",
    "# Initialize metrics\n",
    "precision_list, recall_list = [], []\n",
    "\n",
    "\n",
    "# Compute metrics per user\n",
    "for uid in user_actual.keys():\n",
    "    actual_items = [iid for iid, rating in user_actual[uid] if rating >= threshold]\n",
    "    pred_sorted = sorted(user_pred[uid], key=lambda x: x[1], reverse=True)\n",
    "    pred_items = [iid for iid, _ in pred_sorted]\n",
    "\n",
    "    # Top-K predictions\n",
    "    top_k_pred = pred_items[:K]\n",
    "    true_positives = len(set(top_k_pred) & set(actual_items))\n",
    "    precision = true_positives / K if K else 0\n",
    "    recall = true_positives / len(actual_items) if actual_items else 0\n",
    "   \n",
    "\n",
    "    # Append metrics\n",
    "    precision_list.append(precision)\n",
    "    recall_list.append(recall)\n",
    "  \n",
    "\n",
    "# Compute averages\n",
    "results = {\n",
    "    \"Precision@5\": np.mean(precision_list),\n",
    "    \"Recall@5\": np.mean(recall_list)\n",
    "}\n",
    "\n",
    "for metric, value in results.items():\n",
    "    print(f\"{metric}: {value:.4f}\")"
   ]
  },
  {
   "cell_type": "code",
   "execution_count": 6,
   "id": "295794d6",
   "metadata": {
    "execution": {
     "iopub.execute_input": "2025-10-27T14:29:36.459312Z",
     "iopub.status.busy": "2025-10-27T14:29:36.459022Z",
     "iopub.status.idle": "2025-10-27T14:29:36.490709Z",
     "shell.execute_reply": "2025-10-27T14:29:36.489713Z"
    },
    "papermill": {
     "duration": 0.036748,
     "end_time": "2025-10-27T14:29:36.492205",
     "exception": false,
     "start_time": "2025-10-27T14:29:36.455457",
     "status": "completed"
    },
    "tags": []
   },
   "outputs": [
    {
     "name": "stdout",
     "output_type": "stream",
     "text": [
      "\n",
      "Top recommendations for user 140:\n",
      "  Hunt for Red October, The (1990) (predicted rating: 4.21)\n",
      "  My Fair Lady (1964) (predicted rating: 4.13)\n",
      "  Glory (1989) (predicted rating: 4.08)\n",
      "  Departed, The (2006) (predicted rating: 4.07)\n",
      "  Pianist, The (2002) (predicted rating: 4.02)\n",
      "\n",
      "Top recommendations for user 603:\n",
      "  Casablanca (1942) (predicted rating: 4.90)\n",
      "  Clerks (1994) (predicted rating: 4.63)\n",
      "  Back to the Future (1985) (predicted rating: 4.55)\n",
      "  Dead Poets Society (1989) (predicted rating: 4.52)\n",
      "  Green Mile, The (1999) (predicted rating: 4.34)\n",
      "\n",
      "Top recommendations for user 438:\n",
      "  Star Wars: Episode V - The Empire Strikes Back (1980) (predicted rating: 4.33)\n",
      "  V for Vendetta (2006) (predicted rating: 4.30)\n",
      "  Pirates of the Caribbean: The Curse of the Black Pearl (2003) (predicted rating: 4.11)\n",
      "  Heat (1995) (predicted rating: 4.05)\n",
      "  Serenity (2005) (predicted rating: 4.03)\n"
     ]
    }
   ],
   "source": [
    "# =====================================================\n",
    "# STEP 5: Generate top-N recommendations for a few users\n",
    "# ======================================================\n",
    "\n",
    "from collections import defaultdict\n",
    "\n",
    "def get_top_n(predictions, n=5):\n",
    "    top_n = defaultdict(list)\n",
    "    for uid, iid, true_r, est, _ in predictions:\n",
    "        top_n[uid].append((iid, est))\n",
    "    for uid, user_ratings in top_n.items():\n",
    "        user_ratings.sort(key=lambda x: x[1], reverse=True)\n",
    "        top_n[uid] = user_ratings[:n]\n",
    "    return top_n\n",
    "\n",
    "top_n = get_top_n(predictions, n=5)\n",
    "\n",
    "\n",
    "# Display sample recommendations\n",
    "for uid, user_ratings in list(top_n.items())[:3]:\n",
    "    print(f'\\nTop recommendations for user {uid}:')\n",
    "    for (iid, rating) in user_ratings:\n",
    "        title = df.loc[df['movieId'] == iid, 'title'].values\n",
    "        title = title[0] if len(title) > 0 else 'Unknown'\n",
    "        print(f'  {title} (predicted rating: {rating:.2f})')"
   ]
  },
  {
   "cell_type": "code",
   "execution_count": 7,
   "id": "e6aeecdb",
   "metadata": {
    "execution": {
     "iopub.execute_input": "2025-10-27T14:29:36.499528Z",
     "iopub.status.busy": "2025-10-27T14:29:36.498764Z",
     "iopub.status.idle": "2025-10-27T14:29:36.596518Z",
     "shell.execute_reply": "2025-10-27T14:29:36.595498Z"
    },
    "papermill": {
     "duration": 0.103179,
     "end_time": "2025-10-27T14:29:36.598252",
     "exception": false,
     "start_time": "2025-10-27T14:29:36.495073",
     "status": "completed"
    },
    "tags": []
   },
   "outputs": [
    {
     "name": "stdout",
     "output_type": "stream",
     "text": [
      "\n",
      "🎬 Top 5 recommended movies for user 196:\n",
      "  Godfather, The (1972) (predicted rating: 4.60)\n",
      "  Departed, The (2006) (predicted rating: 4.56)\n",
      "  Shawshank Redemption, The (1994) (predicted rating: 4.50)\n",
      "  Evil Dead II (Dead by Dawn) (1987) (predicted rating: 4.49)\n",
      "  Usual Suspects, The (1995) (predicted rating: 4.48)\n"
     ]
    }
   ],
   "source": [
    "# ==============================================================\n",
    "# STEP 5: Predict ratings for unseen movies for a specific user\n",
    "\n",
    "# What This Code Does\n",
    "    # Finds which movies a user hasn’t rated.\n",
    "    # Uses the SVD model’s predict() method to estimate ratings for each unseen movie.\n",
    "    # Sorts them by predicted rating.\n",
    "    # Prints the top 5 highest predicted movies.\n",
    "# ==============================================================\n",
    "\n",
    "def recommend_for_user(user_id, df, model, n=5):\n",
    "    \"\"\"\n",
    "    Recommend top-N movies for a given user based on predicted ratings.\n",
    "    \"\"\"\n",
    "    # All movies\n",
    "    all_movie_ids = df['movieId'].unique()\n",
    "    \n",
    "    # Movies already rated by the user\n",
    "    rated_movie_ids = df[df['userId'] == user_id]['movieId'].unique()\n",
    "    \n",
    "    # Movies not yet rated\n",
    "    unseen_movie_ids = [mid for mid in all_movie_ids if mid not in rated_movie_ids]\n",
    "    \n",
    "    # Predict ratings for unseen movies\n",
    "    predictions = []\n",
    "    for mid in unseen_movie_ids:\n",
    "        pred = model.predict(user_id, mid)\n",
    "        predictions.append((mid, pred.est))\n",
    "    \n",
    "    # Sort by estimated rating, descending\n",
    "    predictions.sort(key=lambda x: x[1], reverse=True)\n",
    "    \n",
    "    # Get top-N\n",
    "    top_n = predictions[:n]\n",
    "    \n",
    "    # Display results\n",
    "    print(f\"\\n🎬 Top {n} recommended movies for user {user_id}:\")\n",
    "    for mid, rating in top_n:\n",
    "        title = df.loc[df['movieId'] == mid, 'title'].values\n",
    "        title = title[0] if len(title) > 0 else \"Unknown\"\n",
    "        print(f\"  {title} (predicted rating: {rating:.2f})\")\n",
    "\n",
    "\n",
    "\n",
    "\n",
    "# Example: Get recommendations for user ID 196\n",
    "recommend_for_user(user_id=196, df=df, model=model, n=5)\n"
   ]
  }
 ],
 "metadata": {
  "kaggle": {
   "accelerator": "none",
   "dataSources": [
    {
     "datasetId": 8542823,
     "sourceId": 13458255,
     "sourceType": "datasetVersion"
    },
    {
     "datasetId": 8565353,
     "sourceId": 13490532,
     "sourceType": "datasetVersion"
    }
   ],
   "dockerImageVersionId": 31153,
   "isGpuEnabled": false,
   "isInternetEnabled": false,
   "language": "python",
   "sourceType": "notebook"
  },
  "kernelspec": {
   "display_name": "Python 3",
   "language": "python",
   "name": "python3"
  },
  "language_info": {
   "codemirror_mode": {
    "name": "ipython",
    "version": 3
   },
   "file_extension": ".py",
   "mimetype": "text/x-python",
   "name": "python",
   "nbconvert_exporter": "python",
   "pygments_lexer": "ipython3",
   "version": "3.11.13"
  },
  "papermill": {
   "default_parameters": {},
   "duration": 14.20028,
   "end_time": "2025-10-27T14:29:37.220298",
   "environment_variables": {},
   "exception": null,
   "input_path": "__notebook__.ipynb",
   "output_path": "__notebook__.ipynb",
   "parameters": {},
   "start_time": "2025-10-27T14:29:23.020018",
   "version": "2.6.0"
  }
 },
 "nbformat": 4,
 "nbformat_minor": 5
}
